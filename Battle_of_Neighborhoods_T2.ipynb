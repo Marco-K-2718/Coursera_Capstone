{
 "cells": [
  {
   "cell_type": "markdown",
   "metadata": {},
   "source": [
    "\n",
    "# The Battle of the Neighborhoods - Data\n",
    "\n",
    "One city will be analysed in this project : Berlin\n",
    "\n",
    "We will be using the below datasets for analysing Berlin:\n",
    "\n",
    "**Data 1 :** Berlin is Germany's capital and has 3.645 million (2019) inhabitants living in its 12 boroughs. These boroughs are each further divided into different numbers of neighborhoods. The required data was obtained with BeautifulSoup from one of the Wikipedia pages of Berlin. There they are available in one of the tables. In addition to the boroughs and the neighborhoods, information about the population density in the respective borough is also given there. These data are the basis for the further analysis.\n",
    " \n",
    "Link to the data is : https://de.wikipedia.org/wiki/Verwaltungsgliederung_Berlins\n",
    "\n",
    "\n",
    "**Data 2 :** Secondly, census data from the city of Berlin from 2019 was used. This data is available as a report and can be downloaded at the following address:\n",
    "https://download.statistik-berlin-brandenburg.de/d29b001f80353b17/289c7e11acc8/SB_A01-11-00_2019j01_BE.pdf\n",
    "\n",
    "From the available data, the average household income for all districts is used. The income at a location can help to choose the right place for a new restaurant. For kebab restaurants, middle incomes are of interest because these people can afford to eat out but cannot always afford upscale restaurants. \n",
    "\n",
    "**Data 3:** Berlin geographical coordinates data of the neigborhoods will be loaded by Nominatim (geopy.geocoders) to convert an address into latitude and longitude values.\n",
    "\n",
    "\n",
    "**Data 4 :** Berlin geographical coordinates data will be utilized as input for the Foursquare API, that will be leveraged to provision venues information for each neighborhood.We will use the Foursquare API to explore neighborhoods in New York City. The below is image of the Foursquare API data."
   ]
  },
  {
   "cell_type": "code",
   "execution_count": null,
   "metadata": {},
   "outputs": [],
   "source": []
  }
 ],
 "metadata": {
  "kernelspec": {
   "display_name": "Python 3",
   "language": "python",
   "name": "python3"
  },
  "language_info": {
   "codemirror_mode": {
    "name": "ipython",
    "version": 3
   },
   "file_extension": ".py",
   "mimetype": "text/x-python",
   "name": "python",
   "nbconvert_exporter": "python",
   "pygments_lexer": "ipython3",
   "version": "3.7.3"
  }
 },
 "nbformat": 4,
 "nbformat_minor": 2
}
